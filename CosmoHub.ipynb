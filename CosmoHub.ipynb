{
 "cells": [
  {
   "cell_type": "markdown",
   "metadata": {},
   "source": [
    "# Hive\n",
    "\n",
    "<img src=\"images/buckets.jpg\">\n",
    "\n",
    "* ORC columnar format, metadata\n",
    "* No indexes*\n",
    "* Massive parallel sequential scan"
   ]
  },
  {
   "cell_type": "markdown",
   "metadata": {},
   "source": [
    "# CosmoHub\n",
    "\n",
    "* List: public and private catalogs, search box\n",
    "* Catalog: VAD, datasets, columns, sampling, expert mode, plots & hints, request\n",
    "* Activity: log and download"
   ]
  },
  {
   "cell_type": "markdown",
   "metadata": {},
   "source": [
    "## Plots\n",
    "\n",
    "### Example\n",
    "DES Y1: N(z) (cummulative?)\n",
    "### Exercise\n",
    "DES Y1: N(mag) [10-40]\n",
    "\n",
    "\n",
    "### Example\n",
    "MICECATv1: abs_mag_r/gr_restframe 20x20\n",
    "### Exercise\n",
    "MICECATv1: -20 < abs_mag_r < -19.5, N(gr_restframe) x50\n",
    "MICECATv2: z_cgal/lmstellar\n",
    "\n",
    "### Example\n",
    "MICECATv2: cosmos_subaru_z_abs_mag - euclid_nisp_h_abs_mag/z_cgal [-0.5, 2]\n",
    "### Exercise\n",
    "MICECATv2: try another color (another pair of magnitudes)\n",
    "MICECATv2: N(color) within a z_cgal range\n",
    "\n",
    "\n",
    "### Example\n",
    "Gaia_DR1: heatmap ra/dec\n",
    "Gaia_DR2: heatmap ra/dec\n",
    "### Exercise\n",
    "Gaia_DR1 or Gaia_DR2: heatmap l/b, pmod(l+180, 360)/b\n",
    "\n",
    "\n",
    "### Example\n",
    "Gaia_DR2 & DES Y3\n",
    "\n",
    "      SELECT gaia.ra, gaia.dec\n",
    "      FROM handson.desy3full as des \n",
    "      JOIN gaia_dr2 as gaia \n",
    "      ON des.hpix_4096 = gaia.`_hpix_12_nest`\n",
    "      WHERE sqrt( \n",
    "       ((gaia.ra - des.ra)*cos(gaia.dec*(pi()/180))) * ((gaia.ra - des.ra)*cos(gaia.dec*(pi()/180))) +\n",
    "       (gaia.dec - des.dec) * (gaia.dec - des.dec)\n",
    "      ) < 1./7200.\n",
    "      AND des.extended_class_coadd = 3\n",
    "      AND des.extended_class_mash_sof = 3\n",
    "\n",
    "\n",
    "### Exercise\n",
    "MICECATv1:\n",
    "\n",
    "1) How would you find the unique_halo_id and z_cgal of the most massive halo? (flag_central = 0)\n",
    "\n",
    "2) Plot a scatter ra/dec of all galaxies from that halo\n",
    "\n",
    "3) Note the ranges of the halo, and plot a ra/dec of the AVG kappa, gamma1 and gamma2 on those coordinates\n",
    "\n",
    "\n",
    "### Example\n",
    "DES Y1: \n",
    "\n",
    "        SELECT default.ang2pix(9, PI()/180*(90-dec), PI()/180*ra) AS hpix, COUNT(ra) AS cnt\n",
    "        FROM des_y1a1_plus \n",
    "        GROUP BY default.ang2pix(9, PI()/180*(90-dec), PI()/180*ra)\n",
    "\n",
    "### Exercise\n",
    "MICECATv2: Recreate kappa, gamma1, and gamma2 maps, download and plot them"
   ]
  },
  {
   "cell_type": "markdown",
   "metadata": {},
   "source": [
    "## Meanwhile\n",
    "\n",
    "* How sampling works\n",
    "* Tiered storage, external enclosures\n",
    "* Custom output formats\n",
    "* Custom functions\n",
    "* Happy to host more data and collaborate"
   ]
  }
 ],
 "metadata": {
  "kernelspec": {
   "display_name": "Python 2",
   "language": "python",
   "name": "python2"
  },
  "language_info": {
   "codemirror_mode": {
    "name": "ipython",
    "version": 2
   },
   "file_extension": ".py",
   "mimetype": "text/x-python",
   "name": "python",
   "nbconvert_exporter": "python",
   "pygments_lexer": "ipython2",
   "version": "2.7.12"
  }
 },
 "nbformat": 4,
 "nbformat_minor": 2
}
